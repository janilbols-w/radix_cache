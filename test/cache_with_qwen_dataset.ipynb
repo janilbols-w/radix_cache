{
 "cells": [
  {
   "cell_type": "code",
   "execution_count": 1,
   "id": "c9aa3cc5-93af-46c6-8f72-79b2965358a9",
   "metadata": {},
   "outputs": [],
   "source": [
    "import json\n",
    "import logging\n",
    "import numpy as np\n",
    "logger = logging.getLogger(__name__)"
   ]
  },
  {
   "cell_type": "code",
   "execution_count": 2,
   "id": "004c1283-9d83-4ea6-b78b-e691b2b54b59",
   "metadata": {},
   "outputs": [],
   "source": [
    "class QwenDatasets:\n",
    "    def __init__(self, datapath=\"../data/qwen-bailian-usagetraces-anon\"):\n",
    "        with open(datapath+\"/qwen_traceA_blksz_16.jsonl\", \"r\") as f:\n",
    "            self.trace_a = f.readlines()\n",
    "        self.trace_a_size = len(self.trace_a)\n",
    "        \n",
    "        with open(datapath+\"/qwen_traceB_blksz_16.jsonl\", \"r\") as f:\n",
    "            self.trace_b = f.readlines()\n",
    "        self.trace_b_size = len(self.trace_b)\n",
    "        \n",
    "        logger.warning(f\"loading trace A/B from {datapath}, trace_a_size={self.trace_a_size}, trace_b_size={self.trace_b_size}\")\n",
    "    \n",
    "    def trace_a(self, idx = None):\n",
    "        if idx is None:\n",
    "            idx = 0\n",
    "            logger.info()\n",
    "        return self.trace_a\n",
    "        \n",
    "    def trace_b(self):\n",
    "        return self.trace_b"
   ]
  },
  {
   "cell_type": "raw",
   "id": "0bded9a4-ce5a-4938-bfdd-91d0ab03e79c",
   "metadata": {
    "collapsed": true,
    "jupyter": {
     "outputs_hidden": true,
     "source_hidden": true
    },
    "scrolled": true
   },
   "source": [
    "def check_tok_len_2_hash_len(raw, block_size=16):\n",
    "    dat = json.loads(raw)\n",
    "    print(dat)\n",
    "    il = dat[\"input_length\"]\n",
    "    ol = dat[\"output_length\"]\n",
    "    hash_ids = dat[\"hash_ids\"]\n",
    "    hl = len(hash_ids)\n",
    "    print(\"il({}), ol({}), total_tok_len({})\\nhl({}), hash_2_tok ({})\".format(\n",
    "        il, ol, il + ol,\n",
    "        hl, hl*block_size\n",
    "    ))\n",
    "    \n",
    "qwen_data = QwenDatasets()\n",
    "\n",
    "idx = np.random.randint(len(qwen_data.trace_a))\n",
    "raw = qwen_data.trace_a[idx]\n",
    "check_tok_len_2_hash_len(raw)"
   ]
  },
  {
   "cell_type": "raw",
   "id": "c9cab118-0f05-45ab-8c05-9cdcc4811a14",
   "metadata": {
    "collapsed": true,
    "jupyter": {
     "outputs_hidden": true,
     "source_hidden": true
    }
   },
   "source": [
    "import radix_cache as rc\n",
    "\n",
    "def naive_test():\n",
    "    page_size = 1 # already given block hash, no need to convert\n",
    "    tree = rc.RadixCache(page_size=page_size, disable=False)\n",
    "    \n",
    "    tree.insert([1,2,3,4,5], timestamp=1.0)\n",
    "    val, node = tree.match_prefix([1,2,3], timestamp=2.0)\n",
    "    val, node = tree.match_prefix([1], timestamp=3.0)\n",
    "    val, node = tree.match_prefix([4,5], timestamp=4.0)\n",
    "    val, node = tree.match_prefix([1,2,3,4,5], timestamp=4.5)\n",
    "    tree.insert([1,6,7,8], timestamp=5.0)\n",
    "    val, node = tree.match_prefix([1,6,7], timestamp=5.5)\n",
    "    tree.insert([1,2,3,4,9,10,11,12,13,14,15], timestamp=8.0)\n",
    "\n",
    "    tree.pretty_print()\n",
    "    tree.update_cache_status(cur_time=9)\n",
    "    tree.show_metrics()"
   ]
  },
  {
   "cell_type": "code",
   "execution_count": 4,
   "id": "be67e0ba-8fa0-40ad-97e9-5522c37c1890",
   "metadata": {},
   "outputs": [
    {
     "name": "stderr",
     "output_type": "stream",
     "text": [
      "loading trace A/B from ../data/qwen-bailian-usagetraces-anon, trace_a_size=43058, trace_b_size=172800\n"
     ]
    },
    {
     "name": "stdout",
     "output_type": "stream",
     "text": [
      "==================================================\n",
      "num_queries = 6293976\n",
      "num_hits = 117914\n",
      "hit_rate = 1.87%\n",
      "num_actives = 1196596\n",
      "num_stores = 2656400\n",
      "active_rate = 45.05%\n",
      "retrieve_time_list = [-1758625135.102928, 7197.588, 7197.392, 7189.528, 2041.748, 7186.025, 0.0, 146.676, 7018.235000000001, 6491.321]\n",
      "max_retrieve_time = 7199.138\n",
      "store_duration_list = [-1758625134.999928, 7199.258, 7197.558, 7196.861, 7192.4619999999995, 7186.025, 7181.001, 7180.755, 7174.341, 7167.7119999999995]\n",
      "max_store_duration = 7199.258\n",
      "==================================================\n",
      "num_queries = 9956137\n",
      "num_hits = 330756\n",
      "hit_rate = 3.32%\n",
      "num_actives = 130770\n",
      "num_stores = 4638378\n",
      "active_rate = 2.82%\n",
      "retrieve_time_list = [-1758625137.247654, 6880.29, 7152.478999999999, 7196.671, 7197.084, 7188.118, 7199.458, 3551.297, 7031.696999999999, 0.0]\n",
      "max_retrieve_time = 7199.458\n",
      "store_duration_list = [-1758625137.184654, 7199.963000000001, 7199.95, 7199.934, 7199.917, 7199.832, 7199.776, 7199.711, 7199.611, 7199.586]\n",
      "max_store_duration = 7199.963000000001\n"
     ]
    }
   ],
   "source": [
    "import radix_cache as rc\n",
    "\n",
    "qwen_data = QwenDatasets()\n",
    "\n",
    "def radix_with_qwen_simulation(data):\n",
    "    def line_parser(line: str):\n",
    "        sample = json.loads(line)\n",
    "        return sample[\"hash_ids\"], sample[\"timestamp\"]\n",
    "        \n",
    "    page_size = 1 # already given block hash, no need to convert\n",
    "    timestamp = 0\n",
    "    tree = rc.RadixCache(page_size=page_size, disable=False, timestamp=timestamp)\n",
    "    max_timestamp = - 1\n",
    "    for line in data:\n",
    "        hash_ids, timestamp = line_parser(line)\n",
    "        tree.match_prefix(key=hash_ids, timestamp=timestamp)\n",
    "        tree.insert(key=hash_ids, timestamp=timestamp)\n",
    "        max_timestamp = max(max_timestamp, timestamp)\n",
    "\n",
    "    # tree.pretty_print()\n",
    "    tree.update_cache_status(cur_time=max_timestamp)\n",
    "    tree.show_metrics()\n",
    "\n",
    "trace_a = qwen_data.trace_a\n",
    "radix_with_qwen_simulation(trace_a)\n",
    "\n",
    "trace_b = qwen_data.trace_b\n",
    "radix_with_qwen_simulation(trace_b)"
   ]
  },
  {
   "cell_type": "code",
   "execution_count": null,
   "id": "6317387a-ff5e-44e4-bfe4-e7a68ee7ee24",
   "metadata": {},
   "outputs": [],
   "source": []
  }
 ],
 "metadata": {
  "kernelspec": {
   "display_name": "Python 3 (ipykernel)",
   "language": "python",
   "name": "python3"
  },
  "language_info": {
   "codemirror_mode": {
    "name": "ipython",
    "version": 3
   },
   "file_extension": ".py",
   "mimetype": "text/x-python",
   "name": "python",
   "nbconvert_exporter": "python",
   "pygments_lexer": "ipython3",
   "version": "3.12.10"
  }
 },
 "nbformat": 4,
 "nbformat_minor": 5
}
