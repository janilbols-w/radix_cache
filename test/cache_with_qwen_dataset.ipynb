{
 "cells": [
  {
   "cell_type": "code",
   "execution_count": 1,
   "id": "c9aa3cc5-93af-46c6-8f72-79b2965358a9",
   "metadata": {},
   "outputs": [],
   "source": [
    "import json\n",
    "import logging\n",
    "logger = logging.getLogger(__name__)"
   ]
  },
  {
   "cell_type": "code",
   "execution_count": 2,
   "id": "004c1283-9d83-4ea6-b78b-e691b2b54b59",
   "metadata": {},
   "outputs": [],
   "source": [
    "class QwenDatasets:\n",
    "    def __init__(self, datapath=\"../data/qwen-bailian-usagetraces-anon\"):\n",
    "        with open(datapath+\"/qwen_traceA_blksz_16.jsonl\", \"r\") as f:\n",
    "            self.trace_a = f.readlines()\n",
    "        self.trace_a_size = len(self.trace_a)\n",
    "        \n",
    "        with open(datapath+\"/qwen_traceB_blksz_16.jsonl\", \"r\") as f:\n",
    "            self.trace_b = f.readlines()\n",
    "        self.trace_b_size = len(self.trace_b)\n",
    "        \n",
    "        logger.warning(f\"loading trace A/B from {datapath}, trace_a_size={self.trace_a_size}, trace_b_size={self.trace_b_size}\")\n",
    "    \n",
    "    def trace_a(self, idx = None):\n",
    "        if idx is None:\n",
    "            idx = 0\n",
    "            logger.info()\n",
    "        return self.trace_a\n",
    "        \n",
    "    def trace_b(self):\n",
    "        return self.trace_b"
   ]
  },
  {
   "cell_type": "code",
   "execution_count": 3,
   "id": "cf9f4850-670f-476e-8f27-9cc787d9fb9e",
   "metadata": {},
   "outputs": [
    {
     "name": "stderr",
     "output_type": "stream",
     "text": [
      "loading trace A/B from ../data/qwen-bailian-usagetraces-anon, trace_a_size=43058, trace_b_size=172800\n"
     ]
    }
   ],
   "source": [
    "qwen_data = QwenDatasets()"
   ]
  },
  {
   "cell_type": "code",
   "execution_count": 4,
   "id": "30108d43-4323-49b6-b1b4-e6dc84bf88bd",
   "metadata": {},
   "outputs": [
    {
     "data": {
      "text/plain": [
       "'{\"chat_id\": 0, \"parent_chat_id\": -1, \"timestamp\": 0.0, \"input_length\": 791, \"output_length\": 532, \"type\": \"text\", \"turn\": 1, \"hash_ids\": [0, 1, 2, 3, 4, 5, 6, 7, 8, 9, 10, 11, 12, 13, 14, 15, 16, 17, 18, 19, 20, 21, 22, 23, 24, 25, 26, 27, 28, 29, 30, 31, 32, 33, 34, 35, 36, 37, 38, 39, 40, 41, 42, 43, 44, 45, 46, 47, 48, 49]}\\n'"
      ]
     },
     "execution_count": 4,
     "metadata": {},
     "output_type": "execute_result"
    }
   ],
   "source": [
    "qwen_data.trace_a[0]"
   ]
  },
  {
   "cell_type": "code",
   "execution_count": 6,
   "id": "a5957833-4bca-4858-98a2-e4b29760a735",
   "metadata": {},
   "outputs": [],
   "source": [
    "import radix_cache as rc"
   ]
  },
  {
   "cell_type": "code",
   "execution_count": null,
   "id": "87b9f515-496e-4784-9b03-b33c0912a788",
   "metadata": {},
   "outputs": [],
   "source": []
  }
 ],
 "metadata": {
  "kernelspec": {
   "display_name": "Python 3 (ipykernel)",
   "language": "python",
   "name": "python3"
  },
  "language_info": {
   "codemirror_mode": {
    "name": "ipython",
    "version": 3
   },
   "file_extension": ".py",
   "mimetype": "text/x-python",
   "name": "python",
   "nbconvert_exporter": "python",
   "pygments_lexer": "ipython3",
   "version": "3.12.10"
  }
 },
 "nbformat": 4,
 "nbformat_minor": 5
}
